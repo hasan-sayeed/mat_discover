{
 "cells": [
  {
   "cell_type": "code",
   "execution_count": null,
   "metadata": {},
   "outputs": [],
   "source": [
    "\"\"\"Load some data, fit Discover(), predict on validation data, and plot.\"\"\"\n",
    "# %% imports\n",
    "from os.path import join\n",
    "import pandas as pd\n",
    "from crabnet.data.materials_data import elasticity\n",
    "from mat_discover.mat_discover_ import Discover\n",
    "from mat_discover.utils.pareto import pareto_plot\n"
   ]
  },
  {
   "cell_type": "code",
   "execution_count": null,
   "metadata": {},
   "outputs": [],
   "source": [
    "# %% setup\n",
    "# set dummy to True for a quicker run --> small dataset, MDS instead of UMAP\n",
    "dummy = False\n",
    "disc = Discover(dummy_run=dummy, device=\"cuda\")\n",
    "train_df, val_df = disc.data(elasticity, fname=\"train.csv\", dummy=dummy)\n",
    "cat_df = pd.concat((train_df, val_df), axis=0)\n"
   ]
  },
  {
   "cell_type": "code",
   "execution_count": null,
   "metadata": {},
   "outputs": [],
   "source": [
    "# %% fit\n",
    "disc.fit(train_df)\n"
   ]
  },
  {
   "cell_type": "code",
   "execution_count": null,
   "metadata": {},
   "outputs": [],
   "source": [
    "# %% predict\n",
    "score = disc.predict(val_df, umap_random_state=42)\n"
   ]
  },
  {
   "cell_type": "code",
   "execution_count": null,
   "metadata": {},
   "outputs": [],
   "source": [
    "\n",
    "# Interactive scatter plot colored by clusters\n",
    "x = \"DensMAP Dim. 1\"\n",
    "y = \"DensMAP Dim. 2\"\n",
    "umap_df = pd.DataFrame(\n",
    "    {\n",
    "        x: disc.std_emb[:, 0],\n",
    "        y: disc.std_emb[:, 1],\n",
    "        \"cluster ID\": disc.labels,\n",
    "        \"formula\": disc.all_formula,\n",
    "    }\n",
    ")\n",
    "fig = pareto_plot(\n",
    "    umap_df,\n",
    "    x=x,\n",
    "    y=y,\n",
    "    color=\"cluster ID\",\n",
    "    fpath=join(disc.figure_dir, \"px-umap-cluster-scatter\"),\n",
    "    pareto_front=False,\n",
    "    parity_type=None,\n",
    ")\n"
   ]
  },
  {
   "cell_type": "markdown",
   "metadata": {},
   "source": [
    "![example-plotly-output](figures/cluster-example-output.png)"
   ]
  },
  {
   "cell_type": "markdown",
   "metadata": {},
   "source": [
    "(when you run this notebook, the above plot will be interactive and a matplotlibified\n",
    "\"paper-ready\" figure will also be exported to `./figures/` as a `.png`)"
   ]
  },
  {
   "cell_type": "markdown",
   "metadata": {},
   "source": []
  }
 ],
 "metadata": {
  "language_info": {
   "name": "python"
  },
  "orig_nbformat": 4
 },
 "nbformat": 4,
 "nbformat_minor": 2
}
