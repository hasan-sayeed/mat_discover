{
  "nbformat": 4,
  "nbformat_minor": 0,
  "metadata": {
    "colab": {
      "provenance": [],
      "collapsed_sections": [],
      "authorship_tag": "ABX9TyO/SktPz6EIMEhYxfRFY4XF",
      "include_colab_link": true
    },
    "kernelspec": {
      "name": "python3",
      "display_name": "Python 3"
    },
    "language_info": {
      "name": "python"
    }
  },
  "cells": [
    {
      "cell_type": "markdown",
      "metadata": {
        "id": "view-in-github",
        "colab_type": "text"
      },
      "source": [
        "<a href=\"https://colab.research.google.com/github/sparks-baird/mat_discover/blob/main/examples/structurally-aware-mat-discover-bare-bones.ipynb\" target=\"_parent\"><img src=\"https://colab.research.google.com/assets/colab-badge.svg\" alt=\"Open In Colab\"/></a>"
      ]
    },
    {
      "cell_type": "markdown",
      "source": [
        "# DiSCoVeR Bare Bones Script\n",
        "\n",
        "A self-contained, bare-bones example of the DiSCoVeR algorithm."
      ],
      "metadata": {
        "id": "MMu_LzmX3LpF"
      }
    },
    {
      "cell_type": "markdown",
      "source": [
        "## Installation\n",
        "\n",
        "joblib==1.1.0 temporary (no longer needed when hdbscan > 0.8.28)."
      ],
      "metadata": {
        "id": "L33XMjHe4QRS"
      }
    },
    {
      "cell_type": "code",
      "source": [
        "%pip install hdbscan umap-learn crabnet chem_wasserstein joblib==1.1.0 matbench m3gnet matbench-genmetrics"
      ],
      "metadata": {
        "colab": {
          "base_uri": "https://localhost:8080/",
          "height": 1000
        },
        "id": "7Tqmbign2yq8",
        "outputId": "b9edab28-cb4e-4b5d-d7ca-76418e4eea4b"
      },
      "execution_count": 20,
      "outputs": [
        {
          "output_type": "stream",
          "name": "stdout",
          "text": [
            "Looking in indexes: https://pypi.org/simple, https://us-python.pkg.dev/colab-wheels/public/simple/\n",
            "Requirement already satisfied: hdbscan in /usr/local/lib/python3.7/dist-packages (0.8.28)\n",
            "Requirement already satisfied: umap-learn in /usr/local/lib/python3.7/dist-packages (0.5.3)\n",
            "Requirement already satisfied: crabnet in /usr/local/lib/python3.7/dist-packages (2.0.7)\n",
            "Requirement already satisfied: chem_wasserstein in /usr/local/lib/python3.7/dist-packages (1.0.11)\n",
            "Requirement already satisfied: joblib==1.1.0 in /usr/local/lib/python3.7/dist-packages (1.1.0)\n",
            "Requirement already satisfied: matbench in /usr/local/lib/python3.7/dist-packages (0.6)\n",
            "Requirement already satisfied: m3gnet in /usr/local/lib/python3.7/dist-packages (0.1.0)\n",
            "Collecting matbench-genmetrics\n",
            "  Downloading matbench_genmetrics-0.6.0-py3-none-any.whl (17 kB)\n",
            "Requirement already satisfied: cython>=0.27 in /usr/local/lib/python3.7/dist-packages (from hdbscan) (0.29.32)\n",
            "Requirement already satisfied: scikit-learn>=0.20 in /usr/local/lib/python3.7/dist-packages (from hdbscan) (1.0.1)\n",
            "Requirement already satisfied: scipy>=1.0 in /usr/local/lib/python3.7/dist-packages (from hdbscan) (1.7.3)\n",
            "Requirement already satisfied: numpy>=1.20 in /usr/local/lib/python3.7/dist-packages (from hdbscan) (1.21.6)\n",
            "Requirement already satisfied: threadpoolctl>=2.0.0 in /usr/local/lib/python3.7/dist-packages (from scikit-learn>=0.20->hdbscan) (3.1.0)\n",
            "Requirement already satisfied: numba>=0.49 in /usr/local/lib/python3.7/dist-packages (from umap-learn) (0.56.2)\n",
            "Requirement already satisfied: pynndescent>=0.5 in /usr/local/lib/python3.7/dist-packages (from umap-learn) (0.5.7)\n",
            "Requirement already satisfied: tqdm in /usr/local/lib/python3.7/dist-packages (from umap-learn) (4.64.1)\n",
            "Requirement already satisfied: llvmlite<0.40,>=0.39.0dev0 in /usr/local/lib/python3.7/dist-packages (from numba>=0.49->umap-learn) (0.39.1)\n",
            "Requirement already satisfied: setuptools<60 in /usr/local/lib/python3.7/dist-packages (from numba>=0.49->umap-learn) (57.4.0)\n",
            "Requirement already satisfied: importlib-metadata in /usr/local/lib/python3.7/dist-packages (from numba>=0.49->umap-learn) (4.12.0)\n",
            "Requirement already satisfied: seaborn in /usr/local/lib/python3.7/dist-packages (from crabnet) (0.11.2)\n",
            "Requirement already satisfied: matplotlib in /usr/local/lib/python3.7/dist-packages (from crabnet) (3.2.2)\n",
            "Requirement already satisfied: colorama in /usr/local/lib/python3.7/dist-packages (from crabnet) (0.4.5)\n",
            "Requirement already satisfied: psutil in /usr/local/lib/python3.7/dist-packages (from crabnet) (5.4.8)\n",
            "Requirement already satisfied: pandas in /usr/local/lib/python3.7/dist-packages (from crabnet) (1.3.5)\n",
            "Requirement already satisfied: plotly in /usr/local/lib/python3.7/dist-packages (from chem_wasserstein) (5.5.0)\n",
            "Requirement already satisfied: pqdm>=0.1.0 in /usr/local/lib/python3.7/dist-packages (from chem_wasserstein) (0.2.0)\n",
            "Requirement already satisfied: ElMD==0.4.8 in /usr/local/lib/python3.7/dist-packages (from chem_wasserstein) (0.4.8)\n",
            "Requirement already satisfied: dist_matrix>=1.0.2 in /usr/local/lib/python3.7/dist-packages (from chem_wasserstein) (1.0.2)\n",
            "Requirement already satisfied: typing-extensions in /usr/local/lib/python3.7/dist-packages (from pqdm>=0.1.0->chem_wasserstein) (4.1.1)\n",
            "Requirement already satisfied: bounded-pool-executor in /usr/local/lib/python3.7/dist-packages (from pqdm>=0.1.0->chem_wasserstein) (0.0.3)\n",
            "Requirement already satisfied: matminer==0.7.4 in /usr/local/lib/python3.7/dist-packages (from matbench) (0.7.4)\n",
            "Requirement already satisfied: monty==2022.4.26 in /usr/local/lib/python3.7/dist-packages (from matbench) (2022.4.26)\n",
            "Requirement already satisfied: requests>=2.26.0 in /usr/local/lib/python3.7/dist-packages (from matminer==0.7.4->matbench) (2.28.1)\n",
            "Requirement already satisfied: future>=0.18.2 in /usr/local/lib/python3.7/dist-packages (from matminer==0.7.4->matbench) (0.18.2)\n",
            "Requirement already satisfied: sympy>=1.8 in /usr/local/lib/python3.7/dist-packages (from matminer==0.7.4->matbench) (1.10.1)\n",
            "Requirement already satisfied: jsonschema>=3.2.0 in /usr/local/lib/python3.7/dist-packages (from matminer==0.7.4->matbench) (4.3.3)\n",
            "Requirement already satisfied: pymatgen>=2022.0.11 in /usr/local/lib/python3.7/dist-packages (from matminer==0.7.4->matbench) (2022.0.17)\n",
            "Requirement already satisfied: pint>=0.17 in /usr/local/lib/python3.7/dist-packages (from matminer==0.7.4->matbench) (0.18)\n",
            "Requirement already satisfied: pymongo>=3.12.0 in /usr/local/lib/python3.7/dist-packages (from matminer==0.7.4->matbench) (4.2.0)\n",
            "Requirement already satisfied: six>=1.16.0 in /usr/local/lib/python3.7/dist-packages (from matminer==0.7.4->matbench) (1.16.0)\n",
            "Requirement already satisfied: importlib-resources>=1.4.0 in /usr/local/lib/python3.7/dist-packages (from jsonschema>=3.2.0->matminer==0.7.4->matbench) (5.9.0)\n",
            "Requirement already satisfied: pyrsistent!=0.17.0,!=0.17.1,!=0.17.2,>=0.14.0 in /usr/local/lib/python3.7/dist-packages (from jsonschema>=3.2.0->matminer==0.7.4->matbench) (0.18.1)\n",
            "Requirement already satisfied: attrs>=17.4.0 in /usr/local/lib/python3.7/dist-packages (from jsonschema>=3.2.0->matminer==0.7.4->matbench) (22.1.0)\n",
            "Requirement already satisfied: zipp>=3.1.0 in /usr/local/lib/python3.7/dist-packages (from importlib-resources>=1.4.0->jsonschema>=3.2.0->matminer==0.7.4->matbench) (3.8.1)\n",
            "Requirement already satisfied: pytz>=2017.3 in /usr/local/lib/python3.7/dist-packages (from pandas->crabnet) (2022.2.1)\n",
            "Requirement already satisfied: python-dateutil>=2.7.3 in /usr/local/lib/python3.7/dist-packages (from pandas->crabnet) (2.8.2)\n",
            "Requirement already satisfied: packaging in /usr/local/lib/python3.7/dist-packages (from pint>=0.17->matminer==0.7.4->matbench) (21.3)\n",
            "Requirement already satisfied: networkx>=2.2 in /usr/local/lib/python3.7/dist-packages (from pymatgen>=2022.0.11->matminer==0.7.4->matbench) (2.6.3)\n",
            "Requirement already satisfied: uncertainties>=3.1.4 in /usr/local/lib/python3.7/dist-packages (from pymatgen>=2022.0.11->matminer==0.7.4->matbench) (3.1.7)\n",
            "Requirement already satisfied: spglib>=1.9.9.44 in /usr/local/lib/python3.7/dist-packages (from pymatgen>=2022.0.11->matminer==0.7.4->matbench) (2.0.1)\n",
            "Requirement already satisfied: palettable>=3.1.1 in /usr/local/lib/python3.7/dist-packages (from pymatgen>=2022.0.11->matminer==0.7.4->matbench) (3.3.0)\n",
            "Requirement already satisfied: tabulate in /usr/local/lib/python3.7/dist-packages (from pymatgen>=2022.0.11->matminer==0.7.4->matbench) (0.8.10)\n",
            "Requirement already satisfied: ruamel.yaml>=0.15.6 in /usr/local/lib/python3.7/dist-packages (from pymatgen>=2022.0.11->matminer==0.7.4->matbench) (0.17.21)\n",
            "Requirement already satisfied: cycler>=0.10 in /usr/local/lib/python3.7/dist-packages (from matplotlib->crabnet) (0.11.0)\n",
            "Requirement already satisfied: kiwisolver>=1.0.1 in /usr/local/lib/python3.7/dist-packages (from matplotlib->crabnet) (1.4.4)\n",
            "Requirement already satisfied: pyparsing!=2.0.4,!=2.1.2,!=2.1.6,>=2.0.1 in /usr/local/lib/python3.7/dist-packages (from matplotlib->crabnet) (3.0.9)\n",
            "Requirement already satisfied: tenacity>=6.2.0 in /usr/local/lib/python3.7/dist-packages (from plotly->chem_wasserstein) (8.0.1)\n",
            "Requirement already satisfied: urllib3<1.27,>=1.21.1 in /usr/local/lib/python3.7/dist-packages (from requests>=2.26.0->matminer==0.7.4->matbench) (1.24.3)\n",
            "Requirement already satisfied: idna<4,>=2.5 in /usr/local/lib/python3.7/dist-packages (from requests>=2.26.0->matminer==0.7.4->matbench) (2.10)\n",
            "Requirement already satisfied: charset-normalizer<3,>=2 in /usr/local/lib/python3.7/dist-packages (from requests>=2.26.0->matminer==0.7.4->matbench) (2.1.1)\n",
            "Requirement already satisfied: certifi>=2017.4.17 in /usr/local/lib/python3.7/dist-packages (from requests>=2.26.0->matminer==0.7.4->matbench) (2022.6.15)\n",
            "Requirement already satisfied: ruamel.yaml.clib>=0.2.6 in /usr/local/lib/python3.7/dist-packages (from ruamel.yaml>=0.15.6->pymatgen>=2022.0.11->matminer==0.7.4->matbench) (0.2.6)\n",
            "Requirement already satisfied: mpmath>=0.19 in /usr/local/lib/python3.7/dist-packages (from sympy>=1.8->matminer==0.7.4->matbench) (1.2.1)\n",
            "Requirement already satisfied: tensorflow in /usr/local/lib/python3.7/dist-packages (from m3gnet) (2.8.2+zzzcolab20220719082949)\n",
            "Requirement already satisfied: ase in /usr/local/lib/python3.7/dist-packages (from m3gnet) (3.22.1)\n",
            "Collecting element-coder\n",
            "  Downloading element_coder-0.0.6-py3-none-any.whl (1.1 MB)\n",
            "\u001b[K     |████████████████████████████████| 1.1 MB 9.8 MB/s \n",
            "\u001b[?25hCollecting pystow\n",
            "  Downloading pystow-0.4.6-py3-none-any.whl (35 kB)\n",
            "Collecting mp-time-split[pyxtal]\n",
            "  Downloading mp_time_split-0.2.0-py3-none-any.whl (38 kB)\n",
            "Requirement already satisfied: click in /usr/local/lib/python3.7/dist-packages (from element-coder->matbench-genmetrics) (7.1.2)\n",
            "Collecting loguru\n",
            "  Downloading loguru-0.6.0-py3-none-any.whl (58 kB)\n",
            "\u001b[K     |████████████████████████████████| 58 kB 5.1 MB/s \n",
            "\u001b[?25hCollecting pybtex\n",
            "  Downloading pybtex-0.24.0-py2.py3-none-any.whl (561 kB)\n",
            "\u001b[K     |████████████████████████████████| 561 kB 20.0 MB/s \n",
            "\u001b[?25hCollecting pyxtal\n",
            "  Downloading pyxtal-0.5.3-py3-none-any.whl (2.7 MB)\n",
            "\u001b[K     |████████████████████████████████| 2.7 MB 42.1 MB/s \n",
            "\u001b[?25hCollecting latexcodec>=1.0.4\n",
            "  Downloading latexcodec-2.0.1-py2.py3-none-any.whl (18 kB)\n",
            "Requirement already satisfied: PyYAML>=3.01 in /usr/local/lib/python3.7/dist-packages (from pybtex->mp-time-split[pyxtal]->matbench-genmetrics) (6.0)\n",
            "Collecting pickle5\n",
            "  Downloading pickle5-0.0.12-cp37-cp37m-manylinux_2_5_x86_64.manylinux1_x86_64.whl (256 kB)\n",
            "\u001b[K     |████████████████████████████████| 256 kB 44.5 MB/s \n",
            "\u001b[?25hCollecting py3Dmol>=0.8.0\n",
            "  Downloading py3Dmol-1.8.1-py2.py3-none-any.whl (6.5 kB)\n",
            "Collecting pyshtools==4.10\n",
            "  Downloading pyshtools-4.10-cp37-cp37m-manylinux_2_17_x86_64.manylinux2014_x86_64.whl (12.5 MB)\n",
            "\u001b[K     |████████████████████████████████| 12.5 MB 49.2 MB/s \n",
            "\u001b[?25hRequirement already satisfied: xarray in /usr/local/lib/python3.7/dist-packages (from pyshtools==4.10->pyxtal->mp-time-split[pyxtal]->matbench-genmetrics) (0.20.2)\n",
            "Requirement already satisfied: astropy>=4.0 in /usr/local/lib/python3.7/dist-packages (from pyshtools==4.10->pyxtal->mp-time-split[pyxtal]->matbench-genmetrics) (4.3.1)\n",
            "Collecting matplotlib\n",
            "  Downloading matplotlib-3.5.3-cp37-cp37m-manylinux_2_5_x86_64.manylinux1_x86_64.whl (11.2 MB)\n",
            "\u001b[K     |████████████████████████████████| 11.2 MB 48.8 MB/s \n",
            "\u001b[?25hRequirement already satisfied: pooch>=1.1 in /usr/local/lib/python3.7/dist-packages (from pyshtools==4.10->pyxtal->mp-time-split[pyxtal]->matbench-genmetrics) (1.6.0)\n",
            "Requirement already satisfied: pyerfa>=1.7.3 in /usr/local/lib/python3.7/dist-packages (from astropy>=4.0->pyshtools==4.10->pyxtal->mp-time-split[pyxtal]->matbench-genmetrics) (2.0.0.1)\n",
            "Requirement already satisfied: pillow>=6.2.0 in /usr/local/lib/python3.7/dist-packages (from matplotlib->crabnet) (7.1.2)\n",
            "Collecting fonttools>=4.22.0\n",
            "  Downloading fonttools-4.37.4-py3-none-any.whl (960 kB)\n",
            "\u001b[K     |████████████████████████████████| 960 kB 53.0 MB/s \n",
            "\u001b[?25hRequirement already satisfied: appdirs>=1.3.0 in /usr/local/lib/python3.7/dist-packages (from pooch>=1.1->pyshtools==4.10->pyxtal->mp-time-split[pyxtal]->matbench-genmetrics) (1.4.4)\n",
            "Requirement already satisfied: flatbuffers>=1.12 in /usr/local/lib/python3.7/dist-packages (from tensorflow->m3gnet) (2.0.7)\n",
            "Requirement already satisfied: gast>=0.2.1 in /usr/local/lib/python3.7/dist-packages (from tensorflow->m3gnet) (0.5.3)\n",
            "Requirement already satisfied: astunparse>=1.6.0 in /usr/local/lib/python3.7/dist-packages (from tensorflow->m3gnet) (1.6.3)\n",
            "Requirement already satisfied: keras<2.9,>=2.8.0rc0 in /usr/local/lib/python3.7/dist-packages (from tensorflow->m3gnet) (2.8.0)\n",
            "Requirement already satisfied: tensorflow-io-gcs-filesystem>=0.23.1 in /usr/local/lib/python3.7/dist-packages (from tensorflow->m3gnet) (0.26.0)\n",
            "Requirement already satisfied: grpcio<2.0,>=1.24.3 in /usr/local/lib/python3.7/dist-packages (from tensorflow->m3gnet) (1.48.1)\n",
            "Requirement already satisfied: opt-einsum>=2.3.2 in /usr/local/lib/python3.7/dist-packages (from tensorflow->m3gnet) (3.3.0)\n",
            "Requirement already satisfied: keras-preprocessing>=1.1.1 in /usr/local/lib/python3.7/dist-packages (from tensorflow->m3gnet) (1.1.2)\n",
            "Requirement already satisfied: termcolor>=1.1.0 in /usr/local/lib/python3.7/dist-packages (from tensorflow->m3gnet) (1.1.0)\n",
            "Requirement already satisfied: tensorboard<2.9,>=2.8 in /usr/local/lib/python3.7/dist-packages (from tensorflow->m3gnet) (2.8.0)\n",
            "Requirement already satisfied: libclang>=9.0.1 in /usr/local/lib/python3.7/dist-packages (from tensorflow->m3gnet) (14.0.6)\n",
            "Requirement already satisfied: h5py>=2.9.0 in /usr/local/lib/python3.7/dist-packages (from tensorflow->m3gnet) (3.1.0)\n",
            "Requirement already satisfied: protobuf<3.20,>=3.9.2 in /usr/local/lib/python3.7/dist-packages (from tensorflow->m3gnet) (3.17.3)\n",
            "Requirement already satisfied: tensorflow-estimator<2.9,>=2.8 in /usr/local/lib/python3.7/dist-packages (from tensorflow->m3gnet) (2.8.0)\n",
            "Requirement already satisfied: absl-py>=0.4.0 in /usr/local/lib/python3.7/dist-packages (from tensorflow->m3gnet) (1.2.0)\n",
            "Requirement already satisfied: wrapt>=1.11.0 in /usr/local/lib/python3.7/dist-packages (from tensorflow->m3gnet) (1.14.1)\n",
            "Requirement already satisfied: google-pasta>=0.1.1 in /usr/local/lib/python3.7/dist-packages (from tensorflow->m3gnet) (0.2.0)\n",
            "Requirement already satisfied: wheel<1.0,>=0.23.0 in /usr/local/lib/python3.7/dist-packages (from astunparse>=1.6.0->tensorflow->m3gnet) (0.37.1)\n",
            "Requirement already satisfied: cached-property in /usr/local/lib/python3.7/dist-packages (from h5py>=2.9.0->tensorflow->m3gnet) (1.5.2)\n",
            "Requirement already satisfied: google-auth<3,>=1.6.3 in /usr/local/lib/python3.7/dist-packages (from tensorboard<2.9,>=2.8->tensorflow->m3gnet) (1.35.0)\n",
            "Requirement already satisfied: google-auth-oauthlib<0.5,>=0.4.1 in /usr/local/lib/python3.7/dist-packages (from tensorboard<2.9,>=2.8->tensorflow->m3gnet) (0.4.6)\n",
            "Requirement already satisfied: werkzeug>=0.11.15 in /usr/local/lib/python3.7/dist-packages (from tensorboard<2.9,>=2.8->tensorflow->m3gnet) (1.0.1)\n",
            "Requirement already satisfied: tensorboard-plugin-wit>=1.6.0 in /usr/local/lib/python3.7/dist-packages (from tensorboard<2.9,>=2.8->tensorflow->m3gnet) (1.8.1)\n",
            "Requirement already satisfied: tensorboard-data-server<0.7.0,>=0.6.0 in /usr/local/lib/python3.7/dist-packages (from tensorboard<2.9,>=2.8->tensorflow->m3gnet) (0.6.1)\n",
            "Requirement already satisfied: markdown>=2.6.8 in /usr/local/lib/python3.7/dist-packages (from tensorboard<2.9,>=2.8->tensorflow->m3gnet) (3.4.1)\n",
            "Requirement already satisfied: cachetools<5.0,>=2.0.0 in /usr/local/lib/python3.7/dist-packages (from google-auth<3,>=1.6.3->tensorboard<2.9,>=2.8->tensorflow->m3gnet) (4.2.4)\n",
            "Requirement already satisfied: rsa<5,>=3.1.4 in /usr/local/lib/python3.7/dist-packages (from google-auth<3,>=1.6.3->tensorboard<2.9,>=2.8->tensorflow->m3gnet) (4.9)\n",
            "Requirement already satisfied: pyasn1-modules>=0.2.1 in /usr/local/lib/python3.7/dist-packages (from google-auth<3,>=1.6.3->tensorboard<2.9,>=2.8->tensorflow->m3gnet) (0.2.8)\n",
            "Requirement already satisfied: requests-oauthlib>=0.7.0 in /usr/local/lib/python3.7/dist-packages (from google-auth-oauthlib<0.5,>=0.4.1->tensorboard<2.9,>=2.8->tensorflow->m3gnet) (1.3.1)\n",
            "Requirement already satisfied: pyasn1<0.5.0,>=0.4.6 in /usr/local/lib/python3.7/dist-packages (from pyasn1-modules>=0.2.1->google-auth<3,>=1.6.3->tensorboard<2.9,>=2.8->tensorflow->m3gnet) (0.4.8)\n",
            "Requirement already satisfied: oauthlib>=3.0.0 in /usr/local/lib/python3.7/dist-packages (from requests-oauthlib>=0.7.0->google-auth-oauthlib<0.5,>=0.4.1->tensorboard<2.9,>=2.8->tensorflow->m3gnet) (3.2.0)\n",
            "Installing collected packages: fonttools, matplotlib, latexcodec, pyshtools, pybtex, py3Dmol, pyxtal, pickle5, mp-time-split, loguru, pystow, element-coder, matbench-genmetrics\n",
            "  Attempting uninstall: matplotlib\n",
            "    Found existing installation: matplotlib 3.2.2\n",
            "    Uninstalling matplotlib-3.2.2:\n",
            "      Successfully uninstalled matplotlib-3.2.2\n",
            "Successfully installed element-coder-0.0.6 fonttools-4.37.4 latexcodec-2.0.1 loguru-0.6.0 matbench-genmetrics-0.6.0 matplotlib-3.5.3 mp-time-split-0.2.0 pickle5-0.0.12 py3Dmol-1.8.1 pybtex-0.24.0 pyshtools-4.10 pystow-0.4.6 pyxtal-0.5.3\n"
          ]
        },
        {
          "output_type": "display_data",
          "data": {
            "application/vnd.colab-display-data+json": {
              "pip_warning": {
                "packages": [
                  "matplotlib",
                  "mpl_toolkits"
                ]
              }
            }
          },
          "metadata": {}
        }
      ]
    },
    {
      "cell_type": "markdown",
      "source": [
        "Outline\n",
        "-----\n",
        "1. Load some data\n",
        "2. CrabNet target predictions\n",
        "3. ElM2D distance calculations\n",
        "4. DensMAP embeddings and densities\n",
        "5. Train contribution to validation density\n",
        "6. Nearest neighbor properties\n",
        "7. Calculation of weighted scores"
      ],
      "metadata": {
        "id": "e0mvzmq43JxT"
      }
    },
    {
      "cell_type": "code",
      "source": [
        "dummy = True #@param {type:\"boolean\"}"
      ],
      "metadata": {
        "id": "z1GonxVjTw-n"
      },
      "execution_count": 1,
      "outputs": []
    },
    {
      "cell_type": "markdown",
      "source": [
        "## Imports"
      ],
      "metadata": {
        "id": "WdMXy0Xe3U4L"
      }
    },
    {
      "cell_type": "code",
      "execution_count": 15,
      "metadata": {
        "id": "JEC3cf_k2wfq"
      },
      "outputs": [],
      "source": [
        "from operator import attrgetter\n",
        "\n",
        "import numpy as np\n",
        "import pandas as pd\n",
        "import tensorflow as tf\n",
        "\n",
        "from scipy.stats import multivariate_normal\n",
        "from scipy.spatial.distance import pdist, squareform\n",
        "from sklearn.metrics import mean_squared_error\n",
        "from sklearn.neighbors import NearestNeighbors\n",
        "from sklearn.preprocessing import RobustScaler\n",
        "\n",
        "import umap\n",
        "\n",
        "from m3gnet.models import M3GNet\n",
        "from m3gnet.trainers import Trainer\n",
        "from matbench.bench import MatbenchBenchmark\n",
        "from matbench_genmetrics.utils.featurize import cdvae_cov_struct_fingerprints"
      ]
    },
    {
      "cell_type": "markdown",
      "source": [
        "## 1. Data\n",
        "\n",
        "The \"index\" column helps with knowing where repeat formulas came from. `mat_discover` takes into account when repeat formulas are present in the training dataset (i.e. when calculating the train contribution to log validation density). However, this isn't addressed here; we assume each formula is unique and ignore any repeats."
      ],
      "metadata": {
        "id": "FJxouWga4x0o"
      }
    },
    {
      "cell_type": "code",
      "source": [
        "mb = MatbenchBenchmark(autoload=True, subset=[\"matbench_log_kvrh\"])"
      ],
      "metadata": {
        "colab": {
          "base_uri": "https://localhost:8080/"
        },
        "id": "KJdEGsxz4vaT",
        "outputId": "35349750-c45d-451d-8d87-32ca4acb82ac"
      },
      "execution_count": 3,
      "outputs": [
        {
          "output_type": "stream",
          "name": "stdout",
          "text": [
            "2022-10-04 18:58:54 INFO     Initialized benchmark 'matbench_v0.1' with 1 tasks: \n",
            "['matbench_log_kvrh']\n"
          ]
        },
        {
          "output_type": "stream",
          "name": "stderr",
          "text": [
            "INFO:matbench:Initialized benchmark 'matbench_v0.1' with 1 tasks: \n",
            "['matbench_log_kvrh']\n"
          ]
        }
      ]
    },
    {
      "cell_type": "code",
      "source": [
        "task = list(mb.tasks)[0]\n",
        "fold = 0\n",
        "train_inputs, train_outputs = task.get_train_and_val_data(fold)\n",
        "test_inputs, test_outputs = task.get_test_data(fold, include_target=True)\n",
        "if dummy:\n",
        "  train_inputs = train_inputs.head(10)\n",
        "  train_outputs = train_outputs.head(10)\n",
        "  test_inputs = test_inputs.head(5)\n",
        "  test_outputs = test_outputs.head(5)\n",
        "train_df = pd.concat((train_inputs, train_outputs), axis=1)\n",
        "val_df = pd.concat((test_inputs, test_outputs), axis=1)\n",
        "train_df"
      ],
      "metadata": {
        "colab": {
          "base_uri": "https://localhost:8080/",
          "height": 394
        },
        "id": "SZAxuciqRRLw",
        "outputId": "504bd11c-d433-49ae-aa3c-624943ce7981"
      },
      "execution_count": 25,
      "outputs": [
        {
          "output_type": "execute_result",
          "data": {
            "text/plain": [
              "                                                           structure  \\\n",
              "mbid                                                                   \n",
              "mb-log-kvrh-00001  [[0. 0. 0.] Ca, [1.37728887 1.57871271 3.73949...   \n",
              "mb-log-kvrh-00002  [[3.14048493 1.09300401 1.64101398] Mg, [0.625...   \n",
              "mb-log-kvrh-00003  [[ 2.06884519  2.40627241 -0.45891585] Si, [1....   \n",
              "mb-log-kvrh-00004  [[2.06428082 0.         2.06428082] Pd, [0.   ...   \n",
              "mb-log-kvrh-00005  [[3.09635262 1.0689416  1.53602403] Mg, [0.593...   \n",
              "mb-log-kvrh-00007  [[1.74050602 1.74050602 1.74050602] Pd, [0. 0....   \n",
              "mb-log-kvrh-00008  [[0. 0. 0.] Pd, [0.         0.         2.87508...   \n",
              "mb-log-kvrh-00009  [[0.         0.         1.74916285] Si, [3.211...   \n",
              "mb-log-kvrh-00011  [[0.         2.11129254 2.11129254] Al, [2.111...   \n",
              "mb-log-kvrh-00012  [[0.       0.       3.549319] N, [0. 0. 0.] N,...   \n",
              "\n",
              "                   log10(K_VRH)  \n",
              "mbid                             \n",
              "mb-log-kvrh-00001      1.707570  \n",
              "mb-log-kvrh-00002      1.633468  \n",
              "mb-log-kvrh-00003      1.908485  \n",
              "mb-log-kvrh-00004      2.117271  \n",
              "mb-log-kvrh-00005      1.690196  \n",
              "mb-log-kvrh-00007      1.995635  \n",
              "mb-log-kvrh-00008      1.991226  \n",
              "mb-log-kvrh-00009      2.320146  \n",
              "mb-log-kvrh-00011      1.886491  \n",
              "mb-log-kvrh-00012      1.113943  "
            ],
            "text/html": [
              "\n",
              "  <div id=\"df-d9e77811-358c-4db3-9cf6-e8231eb6a6cc\">\n",
              "    <div class=\"colab-df-container\">\n",
              "      <div>\n",
              "<style scoped>\n",
              "    .dataframe tbody tr th:only-of-type {\n",
              "        vertical-align: middle;\n",
              "    }\n",
              "\n",
              "    .dataframe tbody tr th {\n",
              "        vertical-align: top;\n",
              "    }\n",
              "\n",
              "    .dataframe thead th {\n",
              "        text-align: right;\n",
              "    }\n",
              "</style>\n",
              "<table border=\"1\" class=\"dataframe\">\n",
              "  <thead>\n",
              "    <tr style=\"text-align: right;\">\n",
              "      <th></th>\n",
              "      <th>structure</th>\n",
              "      <th>log10(K_VRH)</th>\n",
              "    </tr>\n",
              "    <tr>\n",
              "      <th>mbid</th>\n",
              "      <th></th>\n",
              "      <th></th>\n",
              "    </tr>\n",
              "  </thead>\n",
              "  <tbody>\n",
              "    <tr>\n",
              "      <th>mb-log-kvrh-00001</th>\n",
              "      <td>[[0. 0. 0.] Ca, [1.37728887 1.57871271 3.73949...</td>\n",
              "      <td>1.707570</td>\n",
              "    </tr>\n",
              "    <tr>\n",
              "      <th>mb-log-kvrh-00002</th>\n",
              "      <td>[[3.14048493 1.09300401 1.64101398] Mg, [0.625...</td>\n",
              "      <td>1.633468</td>\n",
              "    </tr>\n",
              "    <tr>\n",
              "      <th>mb-log-kvrh-00003</th>\n",
              "      <td>[[ 2.06884519  2.40627241 -0.45891585] Si, [1....</td>\n",
              "      <td>1.908485</td>\n",
              "    </tr>\n",
              "    <tr>\n",
              "      <th>mb-log-kvrh-00004</th>\n",
              "      <td>[[2.06428082 0.         2.06428082] Pd, [0.   ...</td>\n",
              "      <td>2.117271</td>\n",
              "    </tr>\n",
              "    <tr>\n",
              "      <th>mb-log-kvrh-00005</th>\n",
              "      <td>[[3.09635262 1.0689416  1.53602403] Mg, [0.593...</td>\n",
              "      <td>1.690196</td>\n",
              "    </tr>\n",
              "    <tr>\n",
              "      <th>mb-log-kvrh-00007</th>\n",
              "      <td>[[1.74050602 1.74050602 1.74050602] Pd, [0. 0....</td>\n",
              "      <td>1.995635</td>\n",
              "    </tr>\n",
              "    <tr>\n",
              "      <th>mb-log-kvrh-00008</th>\n",
              "      <td>[[0. 0. 0.] Pd, [0.         0.         2.87508...</td>\n",
              "      <td>1.991226</td>\n",
              "    </tr>\n",
              "    <tr>\n",
              "      <th>mb-log-kvrh-00009</th>\n",
              "      <td>[[0.         0.         1.74916285] Si, [3.211...</td>\n",
              "      <td>2.320146</td>\n",
              "    </tr>\n",
              "    <tr>\n",
              "      <th>mb-log-kvrh-00011</th>\n",
              "      <td>[[0.         2.11129254 2.11129254] Al, [2.111...</td>\n",
              "      <td>1.886491</td>\n",
              "    </tr>\n",
              "    <tr>\n",
              "      <th>mb-log-kvrh-00012</th>\n",
              "      <td>[[0.       0.       3.549319] N, [0. 0. 0.] N,...</td>\n",
              "      <td>1.113943</td>\n",
              "    </tr>\n",
              "  </tbody>\n",
              "</table>\n",
              "</div>\n",
              "      <button class=\"colab-df-convert\" onclick=\"convertToInteractive('df-d9e77811-358c-4db3-9cf6-e8231eb6a6cc')\"\n",
              "              title=\"Convert this dataframe to an interactive table.\"\n",
              "              style=\"display:none;\">\n",
              "        \n",
              "  <svg xmlns=\"http://www.w3.org/2000/svg\" height=\"24px\"viewBox=\"0 0 24 24\"\n",
              "       width=\"24px\">\n",
              "    <path d=\"M0 0h24v24H0V0z\" fill=\"none\"/>\n",
              "    <path d=\"M18.56 5.44l.94 2.06.94-2.06 2.06-.94-2.06-.94-.94-2.06-.94 2.06-2.06.94zm-11 1L8.5 8.5l.94-2.06 2.06-.94-2.06-.94L8.5 2.5l-.94 2.06-2.06.94zm10 10l.94 2.06.94-2.06 2.06-.94-2.06-.94-.94-2.06-.94 2.06-2.06.94z\"/><path d=\"M17.41 7.96l-1.37-1.37c-.4-.4-.92-.59-1.43-.59-.52 0-1.04.2-1.43.59L10.3 9.45l-7.72 7.72c-.78.78-.78 2.05 0 2.83L4 21.41c.39.39.9.59 1.41.59.51 0 1.02-.2 1.41-.59l7.78-7.78 2.81-2.81c.8-.78.8-2.07 0-2.86zM5.41 20L4 18.59l7.72-7.72 1.47 1.35L5.41 20z\"/>\n",
              "  </svg>\n",
              "      </button>\n",
              "      \n",
              "  <style>\n",
              "    .colab-df-container {\n",
              "      display:flex;\n",
              "      flex-wrap:wrap;\n",
              "      gap: 12px;\n",
              "    }\n",
              "\n",
              "    .colab-df-convert {\n",
              "      background-color: #E8F0FE;\n",
              "      border: none;\n",
              "      border-radius: 50%;\n",
              "      cursor: pointer;\n",
              "      display: none;\n",
              "      fill: #1967D2;\n",
              "      height: 32px;\n",
              "      padding: 0 0 0 0;\n",
              "      width: 32px;\n",
              "    }\n",
              "\n",
              "    .colab-df-convert:hover {\n",
              "      background-color: #E2EBFA;\n",
              "      box-shadow: 0px 1px 2px rgba(60, 64, 67, 0.3), 0px 1px 3px 1px rgba(60, 64, 67, 0.15);\n",
              "      fill: #174EA6;\n",
              "    }\n",
              "\n",
              "    [theme=dark] .colab-df-convert {\n",
              "      background-color: #3B4455;\n",
              "      fill: #D2E3FC;\n",
              "    }\n",
              "\n",
              "    [theme=dark] .colab-df-convert:hover {\n",
              "      background-color: #434B5C;\n",
              "      box-shadow: 0px 1px 3px 1px rgba(0, 0, 0, 0.15);\n",
              "      filter: drop-shadow(0px 1px 2px rgba(0, 0, 0, 0.3));\n",
              "      fill: #FFFFFF;\n",
              "    }\n",
              "  </style>\n",
              "\n",
              "      <script>\n",
              "        const buttonEl =\n",
              "          document.querySelector('#df-d9e77811-358c-4db3-9cf6-e8231eb6a6cc button.colab-df-convert');\n",
              "        buttonEl.style.display =\n",
              "          google.colab.kernel.accessAllowed ? 'block' : 'none';\n",
              "\n",
              "        async function convertToInteractive(key) {\n",
              "          const element = document.querySelector('#df-d9e77811-358c-4db3-9cf6-e8231eb6a6cc');\n",
              "          const dataTable =\n",
              "            await google.colab.kernel.invokeFunction('convertToInteractive',\n",
              "                                                     [key], {});\n",
              "          if (!dataTable) return;\n",
              "\n",
              "          const docLinkHtml = 'Like what you see? Visit the ' +\n",
              "            '<a target=\"_blank\" href=https://colab.research.google.com/notebooks/data_table.ipynb>data table notebook</a>'\n",
              "            + ' to learn more about interactive tables.';\n",
              "          element.innerHTML = '';\n",
              "          dataTable['output_type'] = 'display_data';\n",
              "          await google.colab.output.renderOutput(dataTable, element);\n",
              "          const docLink = document.createElement('div');\n",
              "          docLink.innerHTML = docLinkHtml;\n",
              "          element.appendChild(docLink);\n",
              "        }\n",
              "      </script>\n",
              "    </div>\n",
              "  </div>\n",
              "  "
            ]
          },
          "metadata": {},
          "execution_count": 25
        }
      ]
    },
    {
      "cell_type": "markdown",
      "source": [
        "## 2. MegNet predictions"
      ],
      "metadata": {
        "id": "S-MXvBpO3GTc"
      }
    },
    {
      "cell_type": "code",
      "source": [
        "m3gnet = M3GNet(is_intensive=False)\n",
        "trainer = Trainer(m3gnet, tf.keras.optimizers.Adam(1e-3))\n",
        "\n",
        "trainer.train(\n",
        "    train_inputs.tolist(),\n",
        "    train_outputs.tolist(),\n",
        "    fit_per_element_offset=True,\n",
        "    save_checkpoint=False,\n",
        "    epochs=2,\n",
        ")\n",
        "\n",
        "train_pred = trainer.model.predict_structures(train_inputs)\n",
        "val_pred = trainer.model.predict_structures(test_inputs)\n",
        "\n",
        "pred = np.concatenate((train_pred, val_pred), axis=0)\n",
        "\n",
        "val_rmse = mean_squared_error(test_outputs, val_pred, squared=False)\n",
        "\n",
        "print(\"val RMSE: \", val_rmse)\n"
      ],
      "metadata": {
        "colab": {
          "base_uri": "https://localhost:8080/"
        },
        "id": "G80iQPEM217-",
        "outputId": "f05a1ba7-588c-46a3-f706-9ab096f143a5"
      },
      "execution_count": 5,
      "outputs": [
        {
          "output_type": "stream",
          "name": "stdout",
          "text": [
            "Epoch 1/2\n",
            "1/1 [==============================] - 8s 8s/step - loss: 1.9631e-04\n",
            "Epoch 2/2\n",
            "1/1 [==============================] - 0s 114ms/step - loss: 0.0011\n",
            "val RMSE:  1.6783232255927492\n"
          ]
        }
      ]
    },
    {
      "cell_type": "markdown",
      "source": [
        "### Data Preparation"
      ],
      "metadata": {
        "id": "G0MkF2vC5ux7"
      }
    },
    {
      "cell_type": "code",
      "source": [
        "all_structures = pd.concat((train_inputs, test_inputs), axis=0)\n",
        "all_target = pd.concat((train_outputs, test_outputs), axis=0)\n",
        "print(all_structures, all_target)"
      ],
      "metadata": {
        "colab": {
          "base_uri": "https://localhost:8080/"
        },
        "id": "YemCz5L75tY2",
        "outputId": "83945805-5c99-473d-c92a-f35bb0698606"
      },
      "execution_count": 6,
      "outputs": [
        {
          "output_type": "stream",
          "name": "stdout",
          "text": [
            "mbid\n",
            "mb-log-kvrh-00001    [[0. 0. 0.] Ca, [1.37728887 1.57871271 3.73949...\n",
            "mb-log-kvrh-00002    [[3.14048493 1.09300401 1.64101398] Mg, [0.625...\n",
            "mb-log-kvrh-00003    [[ 2.06884519  2.40627241 -0.45891585] Si, [1....\n",
            "mb-log-kvrh-00004    [[2.06428082 0.         2.06428082] Pd, [0.   ...\n",
            "mb-log-kvrh-00005    [[3.09635262 1.0689416  1.53602403] Mg, [0.593...\n",
            "mb-log-kvrh-00007    [[1.74050602 1.74050602 1.74050602] Pd, [0. 0....\n",
            "mb-log-kvrh-00008    [[0. 0. 0.] Pd, [0.         0.         2.87508...\n",
            "mb-log-kvrh-00009    [[0.         0.         1.74916285] Si, [3.211...\n",
            "mb-log-kvrh-00011    [[0.         2.11129254 2.11129254] Al, [2.111...\n",
            "mb-log-kvrh-00012    [[0.       0.       3.549319] N, [0. 0. 0.] N,...\n",
            "mb-log-kvrh-00006    [[0. 0. 0.] Al, [1.41205261 1.41205261 2.03235...\n",
            "mb-log-kvrh-00010    [[0.48499983 1.33821071 4.95913808] O, [2.3796...\n",
            "mb-log-kvrh-00040    [[-1.51512416e-04  5.18156098e-05  6.38120505e...\n",
            "mb-log-kvrh-00047    [[1.6531378  0.98950681 2.98949123] F, [4.0229...\n",
            "mb-log-kvrh-00049    [[-0.85832332  4.5043339   2.42315696] Li, [-0...\n",
            "Name: structure, dtype: object mbid\n",
            "mb-log-kvrh-00001    1.707570\n",
            "mb-log-kvrh-00002    1.633468\n",
            "mb-log-kvrh-00003    1.908485\n",
            "mb-log-kvrh-00004    2.117271\n",
            "mb-log-kvrh-00005    1.690196\n",
            "mb-log-kvrh-00007    1.995635\n",
            "mb-log-kvrh-00008    1.991226\n",
            "mb-log-kvrh-00009    2.320146\n",
            "mb-log-kvrh-00011    1.886491\n",
            "mb-log-kvrh-00012    1.113943\n",
            "mb-log-kvrh-00006    2.060698\n",
            "mb-log-kvrh-00010    1.845098\n",
            "mb-log-kvrh-00040    1.886491\n",
            "mb-log-kvrh-00047    1.857332\n",
            "mb-log-kvrh-00049    2.021189\n",
            "Name: log10(K_VRH), dtype: float64\n"
          ]
        }
      ]
    },
    {
      "cell_type": "code",
      "source": [
        "ntrain, nval = len(train_inputs), len(test_inputs)\n",
        "ntot = ntrain + nval\n",
        "train_ids, val_ids = np.arange(ntrain), np.arange(ntrain, ntot)\n",
        "print(train_ids, val_ids)"
      ],
      "metadata": {
        "colab": {
          "base_uri": "https://localhost:8080/"
        },
        "id": "rWcEYIU36i8N",
        "outputId": "3e05c9ad-4e3d-48a9-aa24-5738ce76a5c6"
      },
      "execution_count": 7,
      "outputs": [
        {
          "output_type": "stream",
          "name": "stdout",
          "text": [
            "[0 1 2 3 4 5 6 7 8 9] [10 11 12 13 14]\n"
          ]
        }
      ]
    },
    {
      "cell_type": "markdown",
      "source": [
        "## 3. Distance calculations"
      ],
      "metadata": {
        "id": "GRY0BlXP3EUj"
      }
    },
    {
      "cell_type": "code",
      "source": [
        "struct_fingerprints = cdvae_cov_struct_fingerprints(all_structures)\n"
      ],
      "metadata": {
        "colab": {
          "base_uri": "https://localhost:8080/"
        },
        "id": "tMHpvhHR24ES",
        "outputId": "2f90d3f5-237d-49c2-c9b8-128de6ff8a9a"
      },
      "execution_count": 8,
      "outputs": [
        {
          "output_type": "stream",
          "name": "stderr",
          "text": [
            "/usr/local/lib/python3.7/dist-packages/numpy/core/fromnumeric.py:3441: RuntimeWarning: Mean of empty slice.\n",
            "  out=out, **kwargs)\n",
            "/usr/local/lib/python3.7/dist-packages/numpy/core/_methods.py:189: RuntimeWarning: invalid value encountered in double_scalars\n",
            "  ret = ret.dtype.type(ret / rcount)\n",
            "WARNING:matbench_genmetrics.utils.featurize:15 structures partially failed to featurize, with on average nan site failure rate per failed structure, and where failed sites were ignored during averaging.\n"
          ]
        }
      ]
    },
    {
      "cell_type": "code",
      "source": [],
      "metadata": {
        "colab": {
          "base_uri": "https://localhost:8080/"
        },
        "id": "YPsTLWBCXvpy",
        "outputId": "05879841-2428-40db-b30f-dae028fc3f94"
      },
      "execution_count": 14,
      "outputs": [
        {
          "output_type": "execute_result",
          "data": {
            "text/plain": [
              "(105,)"
            ]
          },
          "metadata": {},
          "execution_count": 14
        }
      ]
    },
    {
      "cell_type": "code",
      "source": [
        "dm = squareform(pdist(struct_fingerprints))\n",
        "dm"
      ],
      "metadata": {
        "colab": {
          "base_uri": "https://localhost:8080/"
        },
        "id": "RZtppr5qWhW7",
        "outputId": "0f76e4c9-983f-497c-f2ad-e6530eef27a1"
      },
      "execution_count": 17,
      "outputs": [
        {
          "output_type": "execute_result",
          "data": {
            "text/plain": [
              "array([[0.        , 0.37025253, 0.19258748, 1.06530877, 0.31112306,\n",
              "        1.24170994, 0.98408477, 0.35741901, 1.07179753, 1.08145982,\n",
              "        1.15785023, 0.78497011, 1.2712176 , 0.88045732, 1.48451359],\n",
              "       [0.37025253, 0.        , 0.53102321, 1.06328827, 0.0884027 ,\n",
              "        1.30941935, 1.04161895, 0.41502179, 1.11413855, 1.12325477,\n",
              "        1.31709812, 0.74646778, 0.91881587, 0.94413839, 1.50972363],\n",
              "       [0.19258748, 0.53102321, 0.        , 1.11019835, 0.46818642,\n",
              "        1.16590386, 0.94867758, 0.44785563, 1.10261709, 1.07326166,\n",
              "        1.13139612, 0.82315499, 1.4344582 , 0.86120683, 1.48054974],\n",
              "       [1.06530877, 1.06328827, 1.11019835, 0.        , 1.0618268 ,\n",
              "        1.75996989, 1.49708071, 1.06154691, 0.21425931, 1.50993465,\n",
              "        0.86405008, 1.29011082, 1.41253773, 1.41565423, 1.81439484],\n",
              "       [0.31112306, 0.0884027 , 0.46818642, 1.0618268 , 0.        ,\n",
              "        1.2912273 , 1.01418538, 0.36585736, 1.10527837, 1.09562808,\n",
              "        1.28888935, 0.72708563, 0.98691093, 0.91229852, 1.49031238],\n",
              "       [1.24170994, 1.30941935, 1.16590386, 1.75996989, 1.2912273 ,\n",
              "        0.        , 1.2265002 , 1.37034431, 1.77120749, 1.58663809,\n",
              "        1.72668805, 1.43835042, 1.88495421, 1.39558032, 1.88703476],\n",
              "       [0.98408477, 1.04161895, 0.94867758, 1.49708071, 1.01418538,\n",
              "        1.2265002 , 0.        , 0.95986851, 1.51027567, 1.06497585,\n",
              "        1.54226845, 0.93106354, 1.6421964 , 1.11661736, 0.7731842 ],\n",
              "       [0.35741901, 0.41502179, 0.44785563, 1.06154691, 0.36585736,\n",
              "        1.37034431, 0.95986851, 0.        , 1.09777248, 1.00569196,\n",
              "        1.27632132, 0.68351193, 1.19138826, 0.84246091, 1.39854765],\n",
              "       [1.07179753, 1.11413855, 1.10261709, 0.21425931, 1.10527837,\n",
              "        1.77120749, 1.51027567, 1.09777248, 0.        , 1.5218474 ,\n",
              "        0.66271191, 1.32160461, 1.52671247, 1.43052077, 1.82845285],\n",
              "       [1.08145982, 1.12325477, 1.07326166, 1.50993465, 1.09562808,\n",
              "        1.58663809, 1.06497585, 1.00569196, 1.5218474 , 0.        ,\n",
              "        1.59400342, 0.82299785, 1.64549895, 1.05242895, 1.34239476],\n",
              "       [1.15785023, 1.31709812, 1.13139612, 0.86405008, 1.28888935,\n",
              "        1.72668805, 1.54226845, 1.27632132, 0.66271191, 1.59400342,\n",
              "        0.        , 1.45855294, 1.90041498, 1.49388929, 1.90122352],\n",
              "       [0.78497011, 0.74646778, 0.82315499, 1.29011082, 0.72708563,\n",
              "        1.43835042, 0.93106354, 0.68351193, 1.32160461, 0.82299785,\n",
              "        1.45855294, 0.        , 1.2734739 , 0.52830076, 1.29102196],\n",
              "       [1.2712176 , 0.91881587, 1.4344582 , 1.41253773, 0.98691093,\n",
              "        1.88495421, 1.6421964 , 1.19138826, 1.52671247, 1.64549895,\n",
              "        1.90041498, 1.2734739 , 0.        , 1.55928286, 1.93296967],\n",
              "       [0.88045732, 0.94413839, 0.86120683, 1.41565423, 0.91229852,\n",
              "        1.39558032, 1.11661736, 0.84246091, 1.43052077, 1.05242895,\n",
              "        1.49388929, 0.52830076, 1.55928286, 0.        , 1.55924093],\n",
              "       [1.48451359, 1.50972363, 1.48054974, 1.81439484, 1.49031238,\n",
              "        1.88703476, 0.7731842 , 1.39854765, 1.82845285, 1.34239476,\n",
              "        1.90122352, 1.29102196, 1.93296967, 1.55924093, 0.        ]])"
            ]
          },
          "metadata": {},
          "execution_count": 17
        }
      ]
    },
    {
      "cell_type": "markdown",
      "source": [
        "## 4. DensMAP embeddings and densities"
      ],
      "metadata": {
        "id": "adO7u1h93CnD"
      }
    },
    {
      "cell_type": "code",
      "source": [
        "umap_trans = umap.UMAP(\n",
        "    densmap=True,\n",
        "    output_dens=True,\n",
        "    dens_lambda=1.0,\n",
        "    n_neighbors=30,\n",
        "    min_dist=0,\n",
        "    n_components=2,\n",
        "    metric=\"precomputed\",\n",
        "    random_state=42,\n",
        "    low_memory=False,\n",
        ").fit(dm)\n",
        "\n",
        "\n",
        "# Extract densMAP embedding and radii\n",
        "umap_emb, r_orig_log, r_emb_log = attrgetter(\"embedding_\", \"rad_orig_\", \"rad_emb_\")(\n",
        "    umap_trans\n",
        ")\n",
        "umap_r_orig = np.exp(r_orig_log)\n",
        "umap_r_orig"
      ],
      "metadata": {
        "id": "XyptjthO3BvT",
        "colab": {
          "base_uri": "https://localhost:8080/"
        },
        "outputId": "1eeae13b-4e09-46c2-e097-15f9096ae385"
      },
      "execution_count": 18,
      "outputs": [
        {
          "output_type": "stream",
          "name": "stderr",
          "text": [
            "/usr/local/lib/python3.7/dist-packages/umap/umap_.py:1780: UserWarning: using precomputed metric; inverse_transform will be unavailable\n",
            "  warn(\"using precomputed metric; inverse_transform will be unavailable\")\n",
            "/usr/local/lib/python3.7/dist-packages/umap/umap_.py:2345: UserWarning: n_neighbors is larger than the dataset size; truncating to X.shape[0] - 1\n",
            "  \"n_neighbors is larger than the dataset size; truncating to \"\n"
          ]
        },
        {
          "output_type": "execute_result",
          "data": {
            "text/plain": [
              "array([0.67982185, 0.7119372 , 0.7753536 , 1.1853292 , 0.6833535 ,\n",
              "       1.8067325 , 1.1368273 , 0.64889264, 1.1324492 , 1.2874413 ,\n",
              "       1.403293  , 0.8394198 , 1.537061  , 1.0953219 , 1.8652128 ],\n",
              "      dtype=float32)"
            ]
          },
          "metadata": {},
          "execution_count": 18
        }
      ]
    },
    {
      "cell_type": "markdown",
      "source": [
        "## 5. Train contribution to validation density"
      ],
      "metadata": {
        "id": "JXcjLXuy2_m7"
      }
    },
    {
      "cell_type": "code",
      "source": [
        "train_emb = umap_emb[:ntrain]\n",
        "train_r_orig = umap_r_orig[:ntrain]\n",
        "val_emb = umap_emb[ntrain:]\n",
        "val_r_orig = umap_r_orig[ntrain:]\n",
        "\n",
        "train_df[\"emb\"] = list(map(tuple, train_emb))\n",
        "train_df[\"r_orig\"] = train_r_orig\n",
        "val_df[\"emb\"] = list(map(tuple, val_emb))\n",
        "val_df[\"r_orig\"] = val_r_orig\n",
        "\n",
        "\n",
        "def my_mvn(mu_x, mu_y, r):\n",
        "    \"\"\"Calculate multivariate normal at (mu_x, mu_y) with constant radius, r.\"\"\"\n",
        "    return multivariate_normal([mu_x, mu_y], [[r, 0], [0, r]])\n",
        "\n",
        "\n",
        "mvn_list = list(map(my_mvn, train_emb[:, 0], train_emb[:, 1], train_r_orig))\n",
        "pdf_list = [mvn.pdf(val_emb) for mvn in mvn_list]\n",
        "val_dens = np.sum(pdf_list, axis=0)\n",
        "val_log_dens = np.log(val_dens)\n",
        "\n",
        "val_df[\"dens\"] = val_dens\n",
        "val_df"
      ],
      "metadata": {
        "id": "wbnQlLbk25kb",
        "colab": {
          "base_uri": "https://localhost:8080/",
          "height": 237
        },
        "outputId": "2d8b37a2-f2d5-454d-d9ca-663ae8601fc4"
      },
      "execution_count": 26,
      "outputs": [
        {
          "output_type": "execute_result",
          "data": {
            "text/plain": [
              "                                                           structure  \\\n",
              "mbid                                                                   \n",
              "mb-log-kvrh-00006  [[0. 0. 0.] Al, [1.41205261 1.41205261 2.03235...   \n",
              "mb-log-kvrh-00010  [[0.48499983 1.33821071 4.95913808] O, [2.3796...   \n",
              "mb-log-kvrh-00040  [[-1.51512416e-04  5.18156098e-05  6.38120505e...   \n",
              "mb-log-kvrh-00047  [[1.6531378  0.98950681 2.98949123] F, [4.0229...   \n",
              "mb-log-kvrh-00049  [[-0.85832332  4.5043339   2.42315696] Li, [-0...   \n",
              "\n",
              "                   log10(K_VRH)                       emb    r_orig      dens  \n",
              "mbid                                                                           \n",
              "mb-log-kvrh-00006      2.060698     (15.58591, 0.3872447)  1.403293  0.413671  \n",
              "mb-log-kvrh-00010      1.845098      (16.9963, 1.3024964)  0.839420  1.088095  \n",
              "mb-log-kvrh-00040      1.886491    (17.412554, 2.2036467)  1.537061  0.410013  \n",
              "mb-log-kvrh-00047      1.857332  (17.146864, -0.16018976)  1.095322  0.899238  \n",
              "mb-log-kvrh-00049      2.021189    (16.662127, 2.5661209)  1.865213  0.180679  "
            ],
            "text/html": [
              "\n",
              "  <div id=\"df-eba5b896-103c-46ea-940b-fd3286fd048a\">\n",
              "    <div class=\"colab-df-container\">\n",
              "      <div>\n",
              "<style scoped>\n",
              "    .dataframe tbody tr th:only-of-type {\n",
              "        vertical-align: middle;\n",
              "    }\n",
              "\n",
              "    .dataframe tbody tr th {\n",
              "        vertical-align: top;\n",
              "    }\n",
              "\n",
              "    .dataframe thead th {\n",
              "        text-align: right;\n",
              "    }\n",
              "</style>\n",
              "<table border=\"1\" class=\"dataframe\">\n",
              "  <thead>\n",
              "    <tr style=\"text-align: right;\">\n",
              "      <th></th>\n",
              "      <th>structure</th>\n",
              "      <th>log10(K_VRH)</th>\n",
              "      <th>emb</th>\n",
              "      <th>r_orig</th>\n",
              "      <th>dens</th>\n",
              "    </tr>\n",
              "    <tr>\n",
              "      <th>mbid</th>\n",
              "      <th></th>\n",
              "      <th></th>\n",
              "      <th></th>\n",
              "      <th></th>\n",
              "      <th></th>\n",
              "    </tr>\n",
              "  </thead>\n",
              "  <tbody>\n",
              "    <tr>\n",
              "      <th>mb-log-kvrh-00006</th>\n",
              "      <td>[[0. 0. 0.] Al, [1.41205261 1.41205261 2.03235...</td>\n",
              "      <td>2.060698</td>\n",
              "      <td>(15.58591, 0.3872447)</td>\n",
              "      <td>1.403293</td>\n",
              "      <td>0.413671</td>\n",
              "    </tr>\n",
              "    <tr>\n",
              "      <th>mb-log-kvrh-00010</th>\n",
              "      <td>[[0.48499983 1.33821071 4.95913808] O, [2.3796...</td>\n",
              "      <td>1.845098</td>\n",
              "      <td>(16.9963, 1.3024964)</td>\n",
              "      <td>0.839420</td>\n",
              "      <td>1.088095</td>\n",
              "    </tr>\n",
              "    <tr>\n",
              "      <th>mb-log-kvrh-00040</th>\n",
              "      <td>[[-1.51512416e-04  5.18156098e-05  6.38120505e...</td>\n",
              "      <td>1.886491</td>\n",
              "      <td>(17.412554, 2.2036467)</td>\n",
              "      <td>1.537061</td>\n",
              "      <td>0.410013</td>\n",
              "    </tr>\n",
              "    <tr>\n",
              "      <th>mb-log-kvrh-00047</th>\n",
              "      <td>[[1.6531378  0.98950681 2.98949123] F, [4.0229...</td>\n",
              "      <td>1.857332</td>\n",
              "      <td>(17.146864, -0.16018976)</td>\n",
              "      <td>1.095322</td>\n",
              "      <td>0.899238</td>\n",
              "    </tr>\n",
              "    <tr>\n",
              "      <th>mb-log-kvrh-00049</th>\n",
              "      <td>[[-0.85832332  4.5043339   2.42315696] Li, [-0...</td>\n",
              "      <td>2.021189</td>\n",
              "      <td>(16.662127, 2.5661209)</td>\n",
              "      <td>1.865213</td>\n",
              "      <td>0.180679</td>\n",
              "    </tr>\n",
              "  </tbody>\n",
              "</table>\n",
              "</div>\n",
              "      <button class=\"colab-df-convert\" onclick=\"convertToInteractive('df-eba5b896-103c-46ea-940b-fd3286fd048a')\"\n",
              "              title=\"Convert this dataframe to an interactive table.\"\n",
              "              style=\"display:none;\">\n",
              "        \n",
              "  <svg xmlns=\"http://www.w3.org/2000/svg\" height=\"24px\"viewBox=\"0 0 24 24\"\n",
              "       width=\"24px\">\n",
              "    <path d=\"M0 0h24v24H0V0z\" fill=\"none\"/>\n",
              "    <path d=\"M18.56 5.44l.94 2.06.94-2.06 2.06-.94-2.06-.94-.94-2.06-.94 2.06-2.06.94zm-11 1L8.5 8.5l.94-2.06 2.06-.94-2.06-.94L8.5 2.5l-.94 2.06-2.06.94zm10 10l.94 2.06.94-2.06 2.06-.94-2.06-.94-.94-2.06-.94 2.06-2.06.94z\"/><path d=\"M17.41 7.96l-1.37-1.37c-.4-.4-.92-.59-1.43-.59-.52 0-1.04.2-1.43.59L10.3 9.45l-7.72 7.72c-.78.78-.78 2.05 0 2.83L4 21.41c.39.39.9.59 1.41.59.51 0 1.02-.2 1.41-.59l7.78-7.78 2.81-2.81c.8-.78.8-2.07 0-2.86zM5.41 20L4 18.59l7.72-7.72 1.47 1.35L5.41 20z\"/>\n",
              "  </svg>\n",
              "      </button>\n",
              "      \n",
              "  <style>\n",
              "    .colab-df-container {\n",
              "      display:flex;\n",
              "      flex-wrap:wrap;\n",
              "      gap: 12px;\n",
              "    }\n",
              "\n",
              "    .colab-df-convert {\n",
              "      background-color: #E8F0FE;\n",
              "      border: none;\n",
              "      border-radius: 50%;\n",
              "      cursor: pointer;\n",
              "      display: none;\n",
              "      fill: #1967D2;\n",
              "      height: 32px;\n",
              "      padding: 0 0 0 0;\n",
              "      width: 32px;\n",
              "    }\n",
              "\n",
              "    .colab-df-convert:hover {\n",
              "      background-color: #E2EBFA;\n",
              "      box-shadow: 0px 1px 2px rgba(60, 64, 67, 0.3), 0px 1px 3px 1px rgba(60, 64, 67, 0.15);\n",
              "      fill: #174EA6;\n",
              "    }\n",
              "\n",
              "    [theme=dark] .colab-df-convert {\n",
              "      background-color: #3B4455;\n",
              "      fill: #D2E3FC;\n",
              "    }\n",
              "\n",
              "    [theme=dark] .colab-df-convert:hover {\n",
              "      background-color: #434B5C;\n",
              "      box-shadow: 0px 1px 3px 1px rgba(0, 0, 0, 0.15);\n",
              "      filter: drop-shadow(0px 1px 2px rgba(0, 0, 0, 0.3));\n",
              "      fill: #FFFFFF;\n",
              "    }\n",
              "  </style>\n",
              "\n",
              "      <script>\n",
              "        const buttonEl =\n",
              "          document.querySelector('#df-eba5b896-103c-46ea-940b-fd3286fd048a button.colab-df-convert');\n",
              "        buttonEl.style.display =\n",
              "          google.colab.kernel.accessAllowed ? 'block' : 'none';\n",
              "\n",
              "        async function convertToInteractive(key) {\n",
              "          const element = document.querySelector('#df-eba5b896-103c-46ea-940b-fd3286fd048a');\n",
              "          const dataTable =\n",
              "            await google.colab.kernel.invokeFunction('convertToInteractive',\n",
              "                                                     [key], {});\n",
              "          if (!dataTable) return;\n",
              "\n",
              "          const docLinkHtml = 'Like what you see? Visit the ' +\n",
              "            '<a target=\"_blank\" href=https://colab.research.google.com/notebooks/data_table.ipynb>data table notebook</a>'\n",
              "            + ' to learn more about interactive tables.';\n",
              "          element.innerHTML = '';\n",
              "          dataTable['output_type'] = 'display_data';\n",
              "          await google.colab.output.renderOutput(dataTable, element);\n",
              "          const docLink = document.createElement('div');\n",
              "          docLink.innerHTML = docLinkHtml;\n",
              "          element.appendChild(docLink);\n",
              "        }\n",
              "      </script>\n",
              "    </div>\n",
              "  </div>\n",
              "  "
            ]
          },
          "metadata": {},
          "execution_count": 26
        }
      ]
    },
    {
      "cell_type": "markdown",
      "source": [
        "## 6. Nearest neighbor calculations"
      ],
      "metadata": {
        "id": "qQiTahYJ5-kC"
      }
    },
    {
      "cell_type": "code",
      "source": [
        "r_strength = 1.5\n",
        "mean, std = (np.mean(dm), np.std(dm))\n",
        "radius = mean - r_strength * std\n",
        "n_neighbors = 10\n",
        "NN = NearestNeighbors(radius=radius, n_neighbors=n_neighbors, metric=\"precomputed\")\n",
        "NN.fit(dm)\n",
        "\n",
        "neigh_ind = NN.kneighbors(return_distance=False)\n",
        "num_neigh = n_neighbors * np.ones(neigh_ind.shape[0])\n",
        "\n",
        "neigh_target = np.array([pred[ind] for ind in neigh_ind], dtype=\"object\")\n",
        "k_neigh_avg_targ = np.array(\n",
        "    [np.mean(t) if len(t) > 0 else float(0) for t in neigh_target]\n",
        ")\n",
        "\n",
        "val_k_neigh_avg = k_neigh_avg_targ[val_ids]"
      ],
      "metadata": {
        "id": "O60dzXbB26Kc"
      },
      "execution_count": 27,
      "outputs": []
    },
    {
      "cell_type": "markdown",
      "source": [
        "## 7. Weighted scores"
      ],
      "metadata": {
        "id": "92FfjLOt6AY5"
      }
    },
    {
      "cell_type": "code",
      "source": [
        "# deal with warning related to ravel, maybe Colab-specific?\n",
        "from tensorflow.python.ops.numpy_ops import np_config\n",
        "np_config.enable_numpy_behavior()\n",
        "\n",
        "def weighted_score(pred, proxy, pred_weight=1.0, proxy_weight=1.0):\n",
        "    \"\"\"Calculate weighted discovery score using the predicted target and proxy.\"\"\"\n",
        "    pred = pred.ravel().reshape(-1, 1)\n",
        "    proxy = proxy.ravel().reshape(-1, 1)\n",
        "    # Scale and weight the cluster data\n",
        "    pred_scaler = RobustScaler().fit(pred)\n",
        "    pred_scaled = pred_weight * pred_scaler.transform(pred)\n",
        "    proxy_scaler = RobustScaler().fit(-1 * proxy)\n",
        "    proxy_scaled = proxy_weight * proxy_scaler.transform(-1 * proxy)\n",
        "\n",
        "    # combined cluster data\n",
        "    comb_data = pred_scaled + proxy_scaled\n",
        "    comb_scaler = RobustScaler().fit(comb_data)\n",
        "\n",
        "    # cluster scores range between 0 and 1\n",
        "    score = comb_scaler.transform(comb_data).ravel()\n",
        "    return score\n",
        "\n",
        "\n",
        "peak_score = weighted_score(val_pred, val_k_neigh_avg)\n",
        "dens_score = weighted_score(val_pred, val_dens)\n",
        "pd.DataFrame(dict(dens=dens_score, peak=peak_score)).sort_values(by=\"dens\", ascending=False)"
      ],
      "metadata": {
        "id": "TEPgon4p27J4",
        "colab": {
          "base_uri": "https://localhost:8080/",
          "height": 206
        },
        "outputId": "715f1fb2-0bab-41c3-a078-81a9a48036d4"
      },
      "execution_count": 39,
      "outputs": [
        {
          "output_type": "execute_result",
          "data": {
            "text/plain": [
              "       dens      peak\n",
              "3  1.935662  4.116384\n",
              "4  0.914495  0.622159\n",
              "2  0.000000 -0.377841\n",
              "0 -0.085505 -0.440964\n",
              "1 -1.021639  0.000000"
            ],
            "text/html": [
              "\n",
              "  <div id=\"df-dfa37626-4b1d-4242-9072-b9c9fa7650f8\">\n",
              "    <div class=\"colab-df-container\">\n",
              "      <div>\n",
              "<style scoped>\n",
              "    .dataframe tbody tr th:only-of-type {\n",
              "        vertical-align: middle;\n",
              "    }\n",
              "\n",
              "    .dataframe tbody tr th {\n",
              "        vertical-align: top;\n",
              "    }\n",
              "\n",
              "    .dataframe thead th {\n",
              "        text-align: right;\n",
              "    }\n",
              "</style>\n",
              "<table border=\"1\" class=\"dataframe\">\n",
              "  <thead>\n",
              "    <tr style=\"text-align: right;\">\n",
              "      <th></th>\n",
              "      <th>dens</th>\n",
              "      <th>peak</th>\n",
              "    </tr>\n",
              "  </thead>\n",
              "  <tbody>\n",
              "    <tr>\n",
              "      <th>3</th>\n",
              "      <td>1.935662</td>\n",
              "      <td>4.116384</td>\n",
              "    </tr>\n",
              "    <tr>\n",
              "      <th>4</th>\n",
              "      <td>0.914495</td>\n",
              "      <td>0.622159</td>\n",
              "    </tr>\n",
              "    <tr>\n",
              "      <th>2</th>\n",
              "      <td>0.000000</td>\n",
              "      <td>-0.377841</td>\n",
              "    </tr>\n",
              "    <tr>\n",
              "      <th>0</th>\n",
              "      <td>-0.085505</td>\n",
              "      <td>-0.440964</td>\n",
              "    </tr>\n",
              "    <tr>\n",
              "      <th>1</th>\n",
              "      <td>-1.021639</td>\n",
              "      <td>0.000000</td>\n",
              "    </tr>\n",
              "  </tbody>\n",
              "</table>\n",
              "</div>\n",
              "      <button class=\"colab-df-convert\" onclick=\"convertToInteractive('df-dfa37626-4b1d-4242-9072-b9c9fa7650f8')\"\n",
              "              title=\"Convert this dataframe to an interactive table.\"\n",
              "              style=\"display:none;\">\n",
              "        \n",
              "  <svg xmlns=\"http://www.w3.org/2000/svg\" height=\"24px\"viewBox=\"0 0 24 24\"\n",
              "       width=\"24px\">\n",
              "    <path d=\"M0 0h24v24H0V0z\" fill=\"none\"/>\n",
              "    <path d=\"M18.56 5.44l.94 2.06.94-2.06 2.06-.94-2.06-.94-.94-2.06-.94 2.06-2.06.94zm-11 1L8.5 8.5l.94-2.06 2.06-.94-2.06-.94L8.5 2.5l-.94 2.06-2.06.94zm10 10l.94 2.06.94-2.06 2.06-.94-2.06-.94-.94-2.06-.94 2.06-2.06.94z\"/><path d=\"M17.41 7.96l-1.37-1.37c-.4-.4-.92-.59-1.43-.59-.52 0-1.04.2-1.43.59L10.3 9.45l-7.72 7.72c-.78.78-.78 2.05 0 2.83L4 21.41c.39.39.9.59 1.41.59.51 0 1.02-.2 1.41-.59l7.78-7.78 2.81-2.81c.8-.78.8-2.07 0-2.86zM5.41 20L4 18.59l7.72-7.72 1.47 1.35L5.41 20z\"/>\n",
              "  </svg>\n",
              "      </button>\n",
              "      \n",
              "  <style>\n",
              "    .colab-df-container {\n",
              "      display:flex;\n",
              "      flex-wrap:wrap;\n",
              "      gap: 12px;\n",
              "    }\n",
              "\n",
              "    .colab-df-convert {\n",
              "      background-color: #E8F0FE;\n",
              "      border: none;\n",
              "      border-radius: 50%;\n",
              "      cursor: pointer;\n",
              "      display: none;\n",
              "      fill: #1967D2;\n",
              "      height: 32px;\n",
              "      padding: 0 0 0 0;\n",
              "      width: 32px;\n",
              "    }\n",
              "\n",
              "    .colab-df-convert:hover {\n",
              "      background-color: #E2EBFA;\n",
              "      box-shadow: 0px 1px 2px rgba(60, 64, 67, 0.3), 0px 1px 3px 1px rgba(60, 64, 67, 0.15);\n",
              "      fill: #174EA6;\n",
              "    }\n",
              "\n",
              "    [theme=dark] .colab-df-convert {\n",
              "      background-color: #3B4455;\n",
              "      fill: #D2E3FC;\n",
              "    }\n",
              "\n",
              "    [theme=dark] .colab-df-convert:hover {\n",
              "      background-color: #434B5C;\n",
              "      box-shadow: 0px 1px 3px 1px rgba(0, 0, 0, 0.15);\n",
              "      filter: drop-shadow(0px 1px 2px rgba(0, 0, 0, 0.3));\n",
              "      fill: #FFFFFF;\n",
              "    }\n",
              "  </style>\n",
              "\n",
              "      <script>\n",
              "        const buttonEl =\n",
              "          document.querySelector('#df-dfa37626-4b1d-4242-9072-b9c9fa7650f8 button.colab-df-convert');\n",
              "        buttonEl.style.display =\n",
              "          google.colab.kernel.accessAllowed ? 'block' : 'none';\n",
              "\n",
              "        async function convertToInteractive(key) {\n",
              "          const element = document.querySelector('#df-dfa37626-4b1d-4242-9072-b9c9fa7650f8');\n",
              "          const dataTable =\n",
              "            await google.colab.kernel.invokeFunction('convertToInteractive',\n",
              "                                                     [key], {});\n",
              "          if (!dataTable) return;\n",
              "\n",
              "          const docLinkHtml = 'Like what you see? Visit the ' +\n",
              "            '<a target=\"_blank\" href=https://colab.research.google.com/notebooks/data_table.ipynb>data table notebook</a>'\n",
              "            + ' to learn more about interactive tables.';\n",
              "          element.innerHTML = '';\n",
              "          dataTable['output_type'] = 'display_data';\n",
              "          await google.colab.output.renderOutput(dataTable, element);\n",
              "          const docLink = document.createElement('div');\n",
              "          docLink.innerHTML = docLinkHtml;\n",
              "          element.appendChild(docLink);\n",
              "        }\n",
              "      </script>\n",
              "    </div>\n",
              "  </div>\n",
              "  "
            ]
          },
          "metadata": {},
          "execution_count": 39
        }
      ]
    },
    {
      "cell_type": "code",
      "source": [],
      "metadata": {
        "id": "Ie63yEx26svR"
      },
      "execution_count": null,
      "outputs": []
    }
  ]
}